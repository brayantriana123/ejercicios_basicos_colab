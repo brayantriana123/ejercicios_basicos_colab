{
  "nbformat": 4,
  "nbformat_minor": 0,
  "metadata": {
    "colab": {
      "provenance": [],
      "authorship_tag": "ABX9TyM4aqewCZFwuw9ggAmJOtk+",
      "include_colab_link": true
    },
    "kernelspec": {
      "name": "python3",
      "display_name": "Python 3"
    },
    "language_info": {
      "name": "python"
    }
  },
  "cells": [
    {
      "cell_type": "markdown",
      "metadata": {
        "id": "view-in-github",
        "colab_type": "text"
      },
      "source": [
        "<a href=\"https://colab.research.google.com/github/brayantriana123/ejercicios_basicos_colab/blob/main/ejercicio2.ipynb\" target=\"_parent\"><img src=\"https://colab.research.google.com/assets/colab-badge.svg\" alt=\"Open In Colab\"/></a>"
      ]
    },
    {
      "cell_type": "code",
      "execution_count": null,
      "metadata": {
        "id": "GG-nJFukpPtX"
      },
      "outputs": [],
      "source": [
        "\"\"\"----------programa para -------------------\n",
        "----------- convertir temperatura-------------\n",
        "----------------------------------------------\"\"\"\n",
        "\n",
        "\n",
        "print(\"-------------------------------------\")\n",
        "print(\"-----conversor de temperatura--------\")\n",
        "print(\"-------------------------------------\")\n",
        "\n",
        "#input\n",
        "c=int(input(\"digite grados celcius: \"))\n",
        "\n",
        "#procedure\n",
        "k=c+273.15\n",
        "f=1.8*c+32\n",
        "\n",
        "#output\n",
        "print(\"\\nResultado\\n\")\n",
        "print(str(c) + \" Grados celcius es igual a \\n\" + str(k) + \" Grados kelvin \\n\"+ str(f) + \"Grados fahrenheit\")"
      ]
    }
  ]
}