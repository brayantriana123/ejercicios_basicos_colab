{
  "nbformat": 4,
  "nbformat_minor": 0,
  "metadata": {
    "colab": {
      "provenance": [],
      "authorship_tag": "ABX9TyPzTQFvgF1izI4QMqkZPw7m",
      "include_colab_link": true
    },
    "kernelspec": {
      "name": "python3",
      "display_name": "Python 3"
    },
    "language_info": {
      "name": "python"
    }
  },
  "cells": [
    {
      "cell_type": "markdown",
      "metadata": {
        "id": "view-in-github",
        "colab_type": "text"
      },
      "source": [
        "<a href=\"https://colab.research.google.com/github/brayantriana123/ejercicios_basicos_colab/blob/main/ejercicio2.ipynb\" target=\"_parent\"><img src=\"https://colab.research.google.com/assets/colab-badge.svg\" alt=\"Open In Colab\"/></a>"
      ]
    },
    {
      "cell_type": "code",
      "execution_count": null,
      "metadata": {
        "id": "GG-nJFukpPtX"
      },
      "outputs": [],
      "source": [
        "\"\"\"----------programa para -------------------\n",
        "----------- convertir temperatura-------------\n",
        "----------------------------------------------\"\"\"\n",
        "\n",
        "\n",
        "print(\"-------------------------------------\")\n",
        "print(\"-----conversor de temperatura--------\")\n",
        "print(\"-------------------------------------\")\n",
        "\n",
        "#input\n",
        "c=int(input(\"digite grados celcius: \"))\n",
        "\n",
        "#procedure\n",
        "k=c+273.15\n",
        "f=1.8*c+32\n",
        "\n",
        "#output\n",
        "print(\"\\nResultado\\n\")\n",
        "print(str(c) + \" Grados celcius es igual a \\n\" + str(k) + \" Grados kelvin \\n\"+ str(f) + \"Grados fahrenheit\")"
      ]
    },
    {
      "cell_type": "code",
      "source": [
        "\"\"\"Ejercicio 1:\n",
        "programa para verificar si una persona\n",
        "es mayor de edad\"\"\"\n",
        "\n",
        "print(\"----------------------------------\")\n",
        "print(\"--------- MAYOR DE EDAD ----------\")\n",
        "print(\"----------------------------------\")\n",
        "\n",
        "# input\n",
        "edad = int(input(\"Digite la edad: \"))\n",
        "\n",
        "# processing\n",
        "if edad >= 18:\n",
        "    print(\"la persona es MAYOR DE EDAD\")\n",
        "else:\n",
        "    print(\"la persona es MENOR DE EDAD\")"
      ],
      "metadata": {
        "id": "kQVPuLVApxqi"
      },
      "execution_count": null,
      "outputs": []
    },
    {
      "cell_type": "code",
      "source": [
        "\"\"\"Ejercicio 2\n",
        "Programa que permite realizar un préstamo bancario, teniendo en cuenta una serie de requisitos.\"\"\"\n",
        "\n",
        "print(\"------------------------------\")\n",
        "print(\"------ PRÉSTAMO BANCARIO -----\")\n",
        "print(\"------------------------------\")\n",
        "\n",
        "#input \n",
        "ingresos=int(input(\"¿Cuántos son sus ingresos?: \"))\n",
        "\n",
        "#processing \n",
        "if ingresos<900000:\n",
        "    print(\"No es apto para recibir el préstamo\")\n",
        "else: \n",
        "    deudas=int(input(\"¿Posee deudas? 1)si 2)No: \"))\n",
        "    if deudas==2:\n",
        "        print(\"Es apto para recibir el préstamo\")\n",
        "    else: \n",
        "        print(\"No es apto para recibir el préstamo\")"
      ],
      "metadata": {
        "id": "aiPd0WO8qIDg"
      },
      "execution_count": null,
      "outputs": []
    }
  ]
}