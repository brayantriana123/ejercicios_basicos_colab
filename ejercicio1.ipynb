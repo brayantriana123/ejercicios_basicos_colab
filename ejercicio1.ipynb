{
  "nbformat": 4,
  "nbformat_minor": 0,
  "metadata": {
    "colab": {
      "provenance": [],
      "authorship_tag": "ABX9TyOC7oZUE39VAQjoz7SVmA/f",
      "include_colab_link": true
    },
    "kernelspec": {
      "name": "python3",
      "display_name": "Python 3"
    },
    "language_info": {
      "name": "python"
    }
  },
  "cells": [
    {
      "cell_type": "markdown",
      "metadata": {
        "id": "view-in-github",
        "colab_type": "text"
      },
      "source": [
        "<a href=\"https://colab.research.google.com/github/brayantriana123/ejercicios_basicos_colab/blob/main/ejercicio1.ipynb\" target=\"_parent\"><img src=\"https://colab.research.google.com/assets/colab-badge.svg\" alt=\"Open In Colab\"/></a>"
      ]
    },
    {
      "cell_type": "code",
      "execution_count": 2,
      "metadata": {
        "colab": {
          "base_uri": "https://localhost:8080/"
        },
        "id": "_kW7Bme9XDSM",
        "outputId": "4f88c407-776e-466f-cd58-b48bb04f73d0"
      },
      "outputs": [
        {
          "output_type": "stream",
          "name": "stdout",
          "text": [
            "BRAYAN\n"
          ]
        }
      ],
      "source": [
        "print(\"BRAYAN\")"
      ]
    },
    {
      "cell_type": "markdown",
      "source": [
        "# Ejercicios basicos python\n",
        "\n",
        "1. Suma de dos numeros \n",
        "2. potencia de un numero"
      ],
      "metadata": {
        "id": "n7HlwcXlgeHI"
      }
    },
    {
      "cell_type": "code",
      "source": [
        "# suma de dos numeros enteros\n",
        "\n",
        "print(\"------------------------------\")\n",
        "print(\"----- SUMA DOS ENTEROS -------\")\n",
        "print(\"------------------------------\")\n",
        "\n",
        "# input\n",
        "x = int(input(\"Digite el valor de x: \"))\n",
        "y = int(input(\"Digite el valor de y: \"))\n",
        "\n",
        "# processing\n",
        "z = x + y\n",
        "\n",
        "# output\n",
        "print(\"La suma de \",x,\" + \",y,\" es igual a:  \", z)"
      ],
      "metadata": {
        "id": "6O8r3EIDh2A6"
      },
      "execution_count": null,
      "outputs": []
    }
  ]
}