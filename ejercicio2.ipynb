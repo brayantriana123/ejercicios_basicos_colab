{
  "nbformat": 4,
  "nbformat_minor": 0,
  "metadata": {
    "colab": {
      "provenance": [],
      "authorship_tag": "ABX9TyPfmfgd+aMqsApKyfLABr07",
      "include_colab_link": true
    },
    "kernelspec": {
      "name": "python3",
      "display_name": "Python 3"
    },
    "language_info": {
      "name": "python"
    }
  },
  "cells": [
    {
      "cell_type": "markdown",
      "metadata": {
        "id": "view-in-github",
        "colab_type": "text"
      },
      "source": [
        "<a href=\"https://colab.research.google.com/github/brayantriana123/ejercicios_basicos_colab/blob/main/ejercicio2.ipynb\" target=\"_parent\"><img src=\"https://colab.research.google.com/assets/colab-badge.svg\" alt=\"Open In Colab\"/></a>"
      ]
    },
    {
      "cell_type": "code",
      "execution_count": null,
      "metadata": {
        "id": "GG-nJFukpPtX"
      },
      "outputs": [],
      "source": [
        "\"\"\"----------programa para -------------------\n",
        "----------- convertir temperatura-------------\n",
        "----------------------------------------------\"\"\"\n",
        "\n",
        "\n",
        "print(\"-------------------------------------\")\n",
        "print(\"-----conversor de temperatura--------\")\n",
        "print(\"-------------------------------------\")\n",
        "\n",
        "#input\n",
        "c=int(input(\"digite grados celcius: \"))\n",
        "\n",
        "#procedure\n",
        "k=c+273.15\n",
        "f=1.8*c+32\n",
        "\n",
        "#output\n",
        "print(\"\\nResultado\\n\")\n",
        "print(str(c) + \" Grados celcius es igual a \\n\" + str(k) + \" Grados kelvin \\n\"+ str(f) + \"Grados fahrenheit\")"
      ]
    },
    {
      "cell_type": "code",
      "source": [
        "\"\"\"Ejercicio 1:\n",
        "programa para verificar si una persona\n",
        "es mayor de edad\"\"\"\n",
        "\n",
        "print(\"----------------------------------\")\n",
        "print(\"--------- MAYOR DE EDAD ----------\")\n",
        "print(\"----------------------------------\")\n",
        "\n",
        "# input\n",
        "edad = int(input(\"Digite la edad: \"))\n",
        "\n",
        "# processing\n",
        "if edad >= 18:\n",
        "    print(\"la persona es MAYOR DE EDAD\")\n",
        "else:\n",
        "    print(\"la persona es MENOR DE EDAD\")"
      ],
      "metadata": {
        "id": "kQVPuLVApxqi"
      },
      "execution_count": null,
      "outputs": []
    },
    {
      "cell_type": "code",
      "source": [
        "\"\"\"Ejercicio 2\n",
        "Programa que permite realizar un préstamo bancario, teniendo en cuenta una serie de requisitos.\"\"\"\n",
        "\n",
        "print(\"------------------------------\")\n",
        "print(\"------ PRÉSTAMO BANCARIO -----\")\n",
        "print(\"------------------------------\")\n",
        "\n",
        "#input \n",
        "ingresos=int(input(\"¿Cuántos son sus ingresos?: \"))\n",
        "\n",
        "#processing \n",
        "if ingresos<900000:\n",
        "    print(\"No es apto para recibir el préstamo\")\n",
        "else: \n",
        "    deudas=int(input(\"¿Posee deudas? 1)si 2)No: \"))\n",
        "    if deudas==2:\n",
        "        print(\"Es apto para recibir el préstamo\")\n",
        "    else: \n",
        "        print(\"No es apto para recibir el préstamo\")"
      ],
      "metadata": {
        "id": "aiPd0WO8qIDg"
      },
      "execution_count": null,
      "outputs": []
    },
    {
      "cell_type": "code",
      "source": [
        "\"\"\"Ejercicio No.3\n",
        "Programa para calcular el precio de venta de un artículo\"\"\"\n",
        "\n",
        "print(\"--------------------------------\")\n",
        "print(\"-------- PRECIO DE VENTA -------\")\n",
        "print(\"--------------------------------\")\n",
        "\n",
        "#input\n",
        "precio_costo=float(input(\"Dame el precio de costo del artículo: \"))\n",
        "\n",
        "#processing \n",
        "if precio_costo<3000:\n",
        "    ganancia=0.15*precio_costo\n",
        "else:\n",
        "    if precio_costo<=6000:\n",
        "        ganancia=500\n",
        "    else: \n",
        "        ganancia=0.25*precio_costo\n",
        "\n",
        "precio_venta=precio_costo+ganancia\n",
        "\n",
        "#output\n",
        "print(\"El precio de costo es: \" + str(precio_costo))\n",
        "print(\"La ganancia del artículo es: \" + str(ganancia))\n",
        "print(\"El precio de venta es: \" + str(precio_venta))"
      ],
      "metadata": {
        "id": "keOBrHrOr9t4"
      },
      "execution_count": null,
      "outputs": []
    },
    {
      "cell_type": "code",
      "source": [
        "\"\"\"Ejercicio No.4\n",
        "Programa que calcula el índice de masa corporal de una persona (IMC = peso[kg] / altura2 [m]) e indica el estado en el que se encuentra esa persona en función del valor del IMC:\n",
        "\"\"\"\n",
        "print(\"---------------\")\n",
        "print(\"------IMC------\")\n",
        "print(\"---------------\")\n",
        "\n",
        "#input \n",
        "peso=int(input(\"Ingrese su peso: \"))\n",
        "altura=float(input(\"Ingrese su altura: \"))\n",
        "\n",
        "#processing\n",
        "IMC=peso/(altura*altura)\n",
        "\n",
        "#output \n",
        "if IMC<16:\n",
        "    print(\"Su estado es: \" + \"Criterio de ingreso a hospital.\")\n",
        "else:\n",
        "    if IMC>=16 and IMC<17:\n",
        "        print(\"Su estado es: \" + \"Infrapeso\")\n",
        "    else:\n",
        "        if IMC>=17 and IMC<18:\n",
        "            print(\"Su estado es: \" + \"Bajo peso\")\n",
        "        else: \n",
        "            if IMC>=18 and IMC<25:\n",
        "                print(\"Su estado es: \" + \"Peso normal(Saludable)\")\n",
        "            else:\n",
        "                if IMC>=25 and IMC<30:\n",
        "                    print(\"Su estado es: \" + \"Sobrepeso(Obesidad de grado I)\")\n",
        "                else:\n",
        "                    if IMC>=30 and IMC<35:\n",
        "                        print(\"Su estado es: \" + \"Sobrepeso crónico(Obesidad de grado II)\")\n",
        "                    else: \n",
        "                        if IMC>=35 and IMC<40:\n",
        "                             print(\"Su estado es: \" + \"Obesidad premórbida(Obesidad de grado III)\")\n",
        "                        else:  \n",
        "                         print(\"Su estado es: \" + \"Obesidad mórbida(Obesidad de grado IV)\")"
      ],
      "metadata": {
        "id": "3ml-N_WWsLMD"
      },
      "execution_count": null,
      "outputs": []
    }
  ]
}